{
 "cells": [
  {
   "cell_type": "markdown",
   "id": "d0b04f6f",
   "metadata": {},
   "source": [
    "## Idea Collection:\n",
    "\n",
    "1. Different  Datset\n",
    "2. More Layers inspired by Paper\n",
    "3. Different Loss\n",
    "4. One example image compair multiple loss functions/ visual comparison\n",
    "5. Inspect trainset predictions on image\n",
    "6. "
   ]
  },
  {
   "cell_type": "code",
   "execution_count": null,
   "id": "be4a73d1",
   "metadata": {},
   "outputs": [],
   "source": []
  }
 ],
 "metadata": {
  "kernelspec": {
   "display_name": "Python [conda env:FOG]",
   "language": "python",
   "name": "conda-env-FOG-py"
  },
  "language_info": {
   "codemirror_mode": {
    "name": "ipython",
    "version": 3
   },
   "file_extension": ".py",
   "mimetype": "text/x-python",
   "name": "python",
   "nbconvert_exporter": "python",
   "pygments_lexer": "ipython3",
   "version": "3.10.10"
  }
 },
 "nbformat": 4,
 "nbformat_minor": 5
}
